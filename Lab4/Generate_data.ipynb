{
 "cells": [
  {
   "cell_type": "code",
   "execution_count": 1,
   "metadata": {},
   "outputs": [],
   "source": [
    "import pandas as pd\n",
    "import numpy as np\n",
    "\n",
    "np.random.seed(42)"
   ]
  },
  {
   "cell_type": "code",
   "execution_count": 2,
   "metadata": {},
   "outputs": [],
   "source": [
    "N = int(1e7)\n",
    "x = zip('x'*N, np.random.beta(a=2, b=2, size=N))\n",
    "y = zip('y'*N, np.random.uniform(size=N))\n",
    "z = zip('z'*N, np.random.beta(a=2, b=5, size=N))\n",
    "\n",
    "dfs = [pd.DataFrame(data=d) for d in [x,y,z]]\n",
    "#for i,df in enumerate(dfs):\n",
    "#    df.to_csv(f'data/{i}.txt', sep='\\t', index=False, header=False)"
   ]
  },
  {
   "cell_type": "code",
   "execution_count": 3,
   "metadata": {},
   "outputs": [
    {
     "name": "stdout",
     "output_type": "stream",
     "text": [
      "x True\n",
      "y True\n",
      "z True\n"
     ]
    }
   ],
   "source": [
    "df_hist = pd.read_csv('data/output.txt', index_col=0, header=None, sep='\\t| ', engine='python')\n",
    "\n",
    "for i,df in enumerate(dfs):\n",
    "    name = df[0][0]\n",
    "    hadoop_hist = df_hist.loc[name].values\n",
    "    true_hist,_ = np.histogram(df[1].values, bins=len(hadoop_hist), range=(0,1))\n",
    "    print(name, np.all(true_hist==hadoop_hist))"
   ]
  }
 ],
 "metadata": {
  "kernelspec": {
   "display_name": "Python 3",
   "language": "python",
   "name": "python3"
  },
  "language_info": {
   "codemirror_mode": {
    "name": "ipython",
    "version": 3
   },
   "file_extension": ".py",
   "mimetype": "text/x-python",
   "name": "python",
   "nbconvert_exporter": "python",
   "pygments_lexer": "ipython3",
   "version": "3.7.4"
  }
 },
 "nbformat": 4,
 "nbformat_minor": 2
}
